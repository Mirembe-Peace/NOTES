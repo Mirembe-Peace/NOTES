{
 "cells": [
  {
   "cell_type": "markdown",
   "id": "6f7df363",
   "metadata": {},
   "source": [
    "# **Introduction to APIs 🩵**\n",
    "\n",
    "![API](api.jpeg)"
   ]
  },
  {
   "cell_type": "markdown",
   "id": "b652a99f",
   "metadata": {},
   "source": [
    "> Definition: API(Application Programming Interface) is a set of rules and protocols the defin how different software applications or systems communicate\n",
    "\n",
    "**Methods of creating an API 📝**\n",
    "- Using the \"GET\" method\n",
    "- Using the \"PUT\" method"
   ]
  },
  {
   "cell_type": "markdown",
   "id": "1979aac3",
   "metadata": {},
   "source": [
    "**must have**\n",
    "\n",
    "![pipinstallinstructions](instructions.png)"
   ]
  },
  {
   "cell_type": "markdown",
   "id": "daafe617",
   "metadata": {},
   "source": [
    "## 1. **Using the GET method**\n",
    "\n",
    "Creating the API"
   ]
  },
  {
   "cell_type": "code",
   "execution_count": 1,
   "id": "37c962d0",
   "metadata": {},
   "outputs": [],
   "source": [
    "from fastapi import FastAPI\n",
    "\n",
    "app = FastAPI()\n",
    "@app.get(\"/api_name\")\n",
    "\n",
    "# write the function that the API will perform\n",
    "def api_function(number_variable:int, string_variable: str):\n",
    "    if number_variable < 60 or string_variable == 'good':\n",
    "        return{'the statement to be printed': 1}\n",
    "    else:\n",
    "        return{'what to retun if otherwise': 0}"
   ]
  },
  {
   "cell_type": "markdown",
   "id": "1ebe1db6",
   "metadata": {},
   "source": [
    "**NOTE:** we can use the GUI to test if our API works.\n",
    "\n",
    "- **Step 1:** In the terminal/ command prompt type ***python -m uvicorn apiPythonFileName:app --reload*** be sure that you are in the project directory\n",
    "- **Step 2:** Copy the URL that shows up and paste it in your browser and add ***docs*** at the end of the URL\n",
    "\n",
    "![image](firstAPI.png)\n"
   ]
  },
  {
   "cell_type": "markdown",
   "id": "cf6190ae",
   "metadata": {},
   "source": [
    "Calling the API using python"
   ]
  },
  {
   "cell_type": "code",
   "execution_count": 2,
   "id": "d9f353f1",
   "metadata": {},
   "outputs": [
    {
     "name": "stdout",
     "output_type": "stream",
     "text": [
      "{'detail': 'Not Found'}\n"
     ]
    }
   ],
   "source": [
    "import requests\n",
    "\n",
    "number_variable = 54\n",
    "string_variable = \"good\"\n",
    "\n",
    "response = requests.get(f\"http://127.0.0.1:8000/api_function?number_variable={number_variable}&string_variable={string_variable}\")\n",
    "output = response.json()\n",
    "print(output)"
   ]
  },
  {
   "cell_type": "markdown",
   "id": "75220bf4",
   "metadata": {},
   "source": [
    "## 2. **Using the PUT method**"
   ]
  },
  {
   "cell_type": "markdown",
   "id": "7c82c9c9",
   "metadata": {},
   "source": [
    "Creating the API"
   ]
  },
  {
   "cell_type": "code",
   "execution_count": null,
   "id": "b75626cc",
   "metadata": {},
   "outputs": [],
   "source": [
    "from fastapi import FastAPI\n",
    "from pydantic import BaseModel\n",
    "\n",
    "class Input(BaseModel):\n",
    "    number_variable: int\n",
    "    string_variable: str\n",
    "\n",
    "app = FastAPI()\n",
    "@app.put(\"/api_function\")\n",
    "\n",
    "# write the function that the API is going to perform\n",
    "def api_function(number_variable:int, string_variable: str):\n",
    "    if number_variable < 60 or string_variable == 'good':\n",
    "        return{'the statement to be printed': 1}\n",
    "    else:\n",
    "        return{'what to retun if otherwise': 0}"
   ]
  },
  {
   "cell_type": "markdown",
   "id": "c6fd61cb",
   "metadata": {},
   "source": [
    "Calling the API"
   ]
  },
  {
   "cell_type": "code",
   "execution_count": null,
   "id": "6887ad9b",
   "metadata": {},
   "outputs": [],
   "source": [
    "import requests, json\n",
    "payload = json.dumps({\n",
    "    \"number_variable\": 54,\n",
    "    \"string_variable\": \"good\"\n",
    "})\n",
    "\n",
    "response = requests.put(\"URL\", data = payload)\n",
    "print(response.json())"
   ]
  },
  {
   "cell_type": "markdown",
   "id": "40094348",
   "metadata": {},
   "source": [
    "**Notes 📝**\n",
    "1. The **GET** method uses URL and is less safer\n",
    "2. The **PUT** method uses the input class and is safer\n",
    "\n",
    "> **End point** of an API is where we make the API requests\n",
    "\n",
    "![api_concept](api_concept.jpg)"
   ]
  },
  {
   "cell_type": "markdown",
   "id": "4412314e",
   "metadata": {},
   "source": [
    "## **API keys 🗝️** \n",
    "\n",
    "> **Definition:** An API key is a program that stops unwanted requests to an API"
   ]
  },
  {
   "cell_type": "markdown",
   "id": "c734aab1",
   "metadata": {},
   "source": [
    "What do read next time\n",
    "- API keys\n",
    "- syntax of the code\n",
    "- rest and fast APIs"
   ]
  }
 ],
 "metadata": {
  "kernelspec": {
   "display_name": "base",
   "language": "python",
   "name": "python3"
  },
  "language_info": {
   "codemirror_mode": {
    "name": "ipython",
    "version": 3
   },
   "file_extension": ".py",
   "mimetype": "text/x-python",
   "name": "python",
   "nbconvert_exporter": "python",
   "pygments_lexer": "ipython3",
   "version": "3.13.5"
  }
 },
 "nbformat": 4,
 "nbformat_minor": 5
}
